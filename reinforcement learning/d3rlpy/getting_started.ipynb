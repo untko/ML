{
 "cells": [
  {
   "cell_type": "markdown",
   "id": "f9c49c66",
   "metadata": {},
   "source": [
    "# reference\n",
    "\n",
    "https://d3rlpy.readthedocs.io/en/stable/tutorials/getting_started.html"
   ]
  },
  {
   "cell_type": "code",
   "execution_count": 1,
   "id": "b21a12ec",
   "metadata": {},
   "outputs": [
    {
     "name": "stdout",
     "output_type": "stream",
     "text": [
      "Requirement already satisfied: d3rlpy in /opt/anaconda3/envs/python313/lib/python3.13/site-packages (2.8.1)\n",
      "Requirement already satisfied: torch>=2.5.0 in /opt/anaconda3/envs/python313/lib/python3.13/site-packages (from d3rlpy) (2.7.1)\n",
      "Requirement already satisfied: tqdm>=4.66.3 in /opt/anaconda3/envs/python313/lib/python3.13/site-packages (from d3rlpy) (4.67.1)\n",
      "Requirement already satisfied: h5py in /opt/anaconda3/envs/python313/lib/python3.13/site-packages (from d3rlpy) (3.14.0)\n",
      "Requirement already satisfied: gym>=0.26.0 in /opt/anaconda3/envs/python313/lib/python3.13/site-packages (from d3rlpy) (0.26.2)\n",
      "Requirement already satisfied: click in /opt/anaconda3/envs/python313/lib/python3.13/site-packages (from d3rlpy) (8.2.1)\n",
      "Requirement already satisfied: typing-extensions in /opt/anaconda3/envs/python313/lib/python3.13/site-packages (from d3rlpy) (4.14.0)\n",
      "Requirement already satisfied: structlog in /opt/anaconda3/envs/python313/lib/python3.13/site-packages (from d3rlpy) (25.4.0)\n",
      "Requirement already satisfied: colorama in /opt/anaconda3/envs/python313/lib/python3.13/site-packages (from d3rlpy) (0.4.6)\n",
      "Requirement already satisfied: dataclasses-json in /opt/anaconda3/envs/python313/lib/python3.13/site-packages (from d3rlpy) (0.6.7)\n",
      "Requirement already satisfied: gymnasium==1.0.0 in /opt/anaconda3/envs/python313/lib/python3.13/site-packages (from d3rlpy) (1.0.0)\n",
      "Requirement already satisfied: scikit-learn in /opt/anaconda3/envs/python313/lib/python3.13/site-packages (from d3rlpy) (1.7.0)\n",
      "Requirement already satisfied: numpy>=1.21.0 in /opt/anaconda3/envs/python313/lib/python3.13/site-packages (from gymnasium==1.0.0->d3rlpy) (2.2.6)\n",
      "Requirement already satisfied: cloudpickle>=1.2.0 in /opt/anaconda3/envs/python313/lib/python3.13/site-packages (from gymnasium==1.0.0->d3rlpy) (3.1.1)\n",
      "Requirement already satisfied: farama-notifications>=0.0.1 in /opt/anaconda3/envs/python313/lib/python3.13/site-packages (from gymnasium==1.0.0->d3rlpy) (0.0.4)\n",
      "Requirement already satisfied: gym_notices>=0.0.4 in /opt/anaconda3/envs/python313/lib/python3.13/site-packages (from gym>=0.26.0->d3rlpy) (0.1.0)\n",
      "Requirement already satisfied: filelock in /opt/anaconda3/envs/python313/lib/python3.13/site-packages (from torch>=2.5.0->d3rlpy) (3.18.0)\n",
      "Requirement already satisfied: setuptools in /opt/anaconda3/envs/python313/lib/python3.13/site-packages (from torch>=2.5.0->d3rlpy) (78.1.1)\n",
      "Requirement already satisfied: sympy>=1.13.3 in /opt/anaconda3/envs/python313/lib/python3.13/site-packages (from torch>=2.5.0->d3rlpy) (1.14.0)\n",
      "Requirement already satisfied: networkx in /opt/anaconda3/envs/python313/lib/python3.13/site-packages (from torch>=2.5.0->d3rlpy) (3.5)\n",
      "Requirement already satisfied: jinja2 in /opt/anaconda3/envs/python313/lib/python3.13/site-packages (from torch>=2.5.0->d3rlpy) (3.1.6)\n",
      "Requirement already satisfied: fsspec in /opt/anaconda3/envs/python313/lib/python3.13/site-packages (from torch>=2.5.0->d3rlpy) (2025.7.0)\n",
      "Requirement already satisfied: mpmath<1.4,>=1.1.0 in /opt/anaconda3/envs/python313/lib/python3.13/site-packages (from sympy>=1.13.3->torch>=2.5.0->d3rlpy) (1.3.0)\n",
      "Requirement already satisfied: marshmallow<4.0.0,>=3.18.0 in /opt/anaconda3/envs/python313/lib/python3.13/site-packages (from dataclasses-json->d3rlpy) (3.26.1)\n",
      "Requirement already satisfied: typing-inspect<1,>=0.4.0 in /opt/anaconda3/envs/python313/lib/python3.13/site-packages (from dataclasses-json->d3rlpy) (0.9.0)\n",
      "Requirement already satisfied: packaging>=17.0 in /opt/anaconda3/envs/python313/lib/python3.13/site-packages (from marshmallow<4.0.0,>=3.18.0->dataclasses-json->d3rlpy) (25.0)\n",
      "Requirement already satisfied: mypy-extensions>=0.3.0 in /opt/anaconda3/envs/python313/lib/python3.13/site-packages (from typing-inspect<1,>=0.4.0->dataclasses-json->d3rlpy) (1.1.0)\n",
      "Requirement already satisfied: MarkupSafe>=2.0 in /opt/anaconda3/envs/python313/lib/python3.13/site-packages (from jinja2->torch>=2.5.0->d3rlpy) (3.0.2)\n",
      "Requirement already satisfied: scipy>=1.8.0 in /opt/anaconda3/envs/python313/lib/python3.13/site-packages (from scikit-learn->d3rlpy) (1.16.0)\n",
      "Requirement already satisfied: joblib>=1.2.0 in /opt/anaconda3/envs/python313/lib/python3.13/site-packages (from scikit-learn->d3rlpy) (1.5.1)\n",
      "Requirement already satisfied: threadpoolctl>=3.1.0 in /opt/anaconda3/envs/python313/lib/python3.13/site-packages (from scikit-learn->d3rlpy) (3.6.0)\n"
     ]
    }
   ],
   "source": [
    "!pip install d3rlpy"
   ]
  },
  {
   "cell_type": "markdown",
   "id": "6b483893",
   "metadata": {},
   "source": [
    "# prepare dataset"
   ]
  },
  {
   "cell_type": "code",
   "execution_count": 2,
   "id": "bcf43834",
   "metadata": {},
   "outputs": [
    {
     "name": "stderr",
     "output_type": "stream",
     "text": [
      "Gym has been unmaintained since 2022 and does not support NumPy 2.0 amongst other critical functionality.\n",
      "Please upgrade to Gymnasium, the maintained drop-in replacement of Gym, or contact the authors of your software and request that they upgrade.\n",
      "Users of this version of Gym should be able to simply replace 'import gym' with 'import gymnasium as gym' in the vast majority of cases.\n",
      "See the migration guide at https://gymnasium.farama.org/introduction/migration_guide/ for additional information.\n",
      "/opt/anaconda3/envs/python313/lib/python3.13/site-packages/tqdm/auto.py:21: TqdmWarning: IProgress not found. Please update jupyter and ipywidgets. See https://ipywidgets.readthedocs.io/en/stable/user_install.html\n",
      "  from .autonotebook import tqdm as notebook_tqdm\n"
     ]
    }
   ],
   "source": [
    "from d3rlpy.datasets import get_cartpole # CartPole-v1 dataset\n",
    "from d3rlpy.datasets import get_pendulum # Pendulum-v1 dataset\n",
    "from d3rlpy.datasets import get_atari    # Atari 2600 task datasets\n",
    "from d3rlpy.datasets import get_d4rl     # D4RL datasets"
   ]
  },
  {
   "cell_type": "markdown",
   "id": "5f42ca9c",
   "metadata": {},
   "source": [
    "# dataset"
   ]
  },
  {
   "cell_type": "code",
   "execution_count": 4,
   "id": "ea47f5f8",
   "metadata": {},
   "outputs": [
    {
     "name": "stdout",
     "output_type": "stream",
     "text": [
      "Downloading cartpole.pkl into d3rlpy_data/cartpole_replay_v1.1.0.h5...\n",
      "\u001b[2m2025-09-15 22:16.10\u001b[0m [\u001b[32m\u001b[1minfo     \u001b[0m] \u001b[1mSignatures have been automatically determined.\u001b[0m \u001b[36maction_signature\u001b[0m=\u001b[35mSignature(dtype=[dtype('int32')], shape=[(1,)])\u001b[0m \u001b[36mobservation_signature\u001b[0m=\u001b[35mSignature(dtype=[dtype('float32')], shape=[(4,)])\u001b[0m \u001b[36mreward_signature\u001b[0m=\u001b[35mSignature(dtype=[dtype('float32')], shape=[(1,)])\u001b[0m\n",
      "\u001b[2m2025-09-15 22:16.10\u001b[0m [\u001b[32m\u001b[1minfo     \u001b[0m] \u001b[1mAction-space has been automatically determined.\u001b[0m \u001b[36maction_space\u001b[0m=\u001b[35m<ActionSpace.DISCRETE: 2>\u001b[0m\n",
      "\u001b[2m2025-09-15 22:16.10\u001b[0m [\u001b[32m\u001b[1minfo     \u001b[0m] \u001b[1mAction size has been automatically determined.\u001b[0m \u001b[36maction_size\u001b[0m=\u001b[35m2\u001b[0m\n"
     ]
    }
   ],
   "source": [
    "dataset, env = get_cartpole()"
   ]
  },
  {
   "cell_type": "markdown",
   "id": "b30478a4",
   "metadata": {},
   "source": [
    "# Algos"
   ]
  },
  {
   "cell_type": "markdown",
   "id": "c01491c7",
   "metadata": {},
   "source": [
    "## DQN"
   ]
  },
  {
   "cell_type": "code",
   "execution_count": 6,
   "id": "deaaa692",
   "metadata": {},
   "outputs": [],
   "source": [
    "from d3rlpy.algos import DQNConfig\n",
    "\n",
    "# if you don't use GPU, set device=None instead.\n",
    "dqn = DQNConfig().create(device=\"mps:0\") # cuda:0 for GPU, cpu for CPU\n",
    "\n",
    "# initialize neural networks with the given observation shape and action size.\n",
    "# this is not necessary when you directly call fit or fit_online method.\n",
    "dqn.build_with_dataset(dataset)"
   ]
  },
  {
   "cell_type": "markdown",
   "id": "1e2f4c01",
   "metadata": {},
   "source": [
    "# setup metrics\n",
    "\n"
   ]
  },
  {
   "cell_type": "code",
   "execution_count": 7,
   "id": "3f12c85d",
   "metadata": {},
   "outputs": [],
   "source": [
    "from d3rlpy.metrics import TDErrorEvaluator\n",
    "\n",
    "# calculate metrics with training dataset\n",
    "td_error_evaluator = TDErrorEvaluator(episodes=dataset.episodes)"
   ]
  },
  {
   "cell_type": "code",
   "execution_count": 10,
   "id": "76f961ca",
   "metadata": {},
   "outputs": [],
   "source": [
    "from d3rlpy.metrics import EnvironmentEvaluator\n",
    "import gymnasium as gym \n",
    "# set environment in scorer function\n",
    "env_evaluator = EnvironmentEvaluator(env)\n",
    "\n",
    "# evaluate algorithm on the environment\n",
    "rewards = env_evaluator(dqn, dataset=None)"
   ]
  },
  {
   "cell_type": "markdown",
   "id": "0463f50a",
   "metadata": {},
   "source": [
    "# start training"
   ]
  },
  {
   "cell_type": "code",
   "execution_count": 11,
   "id": "06ba670d",
   "metadata": {},
   "outputs": [
    {
     "name": "stdout",
     "output_type": "stream",
     "text": [
      "\u001b[2m2025-09-15 22:18.02\u001b[0m [\u001b[32m\u001b[1minfo     \u001b[0m] \u001b[1mdataset info                  \u001b[0m \u001b[36mdataset_info\u001b[0m=\u001b[35mDatasetInfo(observation_signature=Signature(dtype=[dtype('float32')], shape=[(4,)]), action_signature=Signature(dtype=[dtype('int32')], shape=[(1,)]), reward_signature=Signature(dtype=[dtype('float32')], shape=[(1,)]), action_space=<ActionSpace.DISCRETE: 2>, action_size=2)\u001b[0m\n",
      "\u001b[2m2025-09-15 22:18.02\u001b[0m [\u001b[33m\u001b[1mwarning  \u001b[0m] \u001b[1mSkip building models since they're already built.\u001b[0m\n",
      "\u001b[2m2025-09-15 22:18.02\u001b[0m [\u001b[32m\u001b[1minfo     \u001b[0m] \u001b[1mDirectory is created at d3rlpy_logs/DQN_20250915221802\u001b[0m\n",
      "\u001b[2m2025-09-15 22:18.02\u001b[0m [\u001b[32m\u001b[1minfo     \u001b[0m] \u001b[1mParameters                    \u001b[0m \u001b[36mparams\u001b[0m=\u001b[35m{'observation_shape': [4], 'action_size': 2, 'config': {'type': 'dqn', 'params': {'batch_size': 32, 'gamma': 0.99, 'observation_scaler': {'type': 'none', 'params': {}}, 'action_scaler': {'type': 'none', 'params': {}}, 'reward_scaler': {'type': 'none', 'params': {}}, 'compile_graph': False, 'learning_rate': 6.25e-05, 'optim_factory': {'type': 'adam', 'params': {'clip_grad_norm': None, 'lr_scheduler_factory': {'type': 'none', 'params': {}}, 'betas': [0.9, 0.999], 'eps': 1e-08, 'weight_decay': 0, 'amsgrad': False}}, 'encoder_factory': {'type': 'default', 'params': {'activation': 'relu', 'use_batch_norm': False, 'dropout_rate': None}}, 'q_func_factory': {'type': 'mean', 'params': {'share_encoder': False}}, 'n_critics': 1, 'target_update_interval': 8000}}}\u001b[0m\n"
     ]
    },
    {
     "name": "stderr",
     "output_type": "stream",
     "text": [
      "Epoch 1/1: 100%|██████████| 10000/10000 [01:00<00:00, 164.07it/s, loss=0.0055]\n"
     ]
    },
    {
     "name": "stdout",
     "output_type": "stream",
     "text": [
      "\u001b[2m2025-09-15 22:19.23\u001b[0m [\u001b[32m\u001b[1minfo     \u001b[0m] \u001b[1mDQN_20250915221802: epoch=1 step=10000\u001b[0m \u001b[36mepoch\u001b[0m=\u001b[35m1\u001b[0m \u001b[36mmetrics\u001b[0m=\u001b[35m{'time_sample_batch': 0.00023308279514312744, 'time_algorithm_update': 0.005771638035774231, 'loss': 0.005504346831805742, 'time_step': 0.006068303322792053, 'td_error': 0.9951041568644884, 'environment': 11.6}\u001b[0m \u001b[36mstep\u001b[0m=\u001b[35m10000\u001b[0m\n",
      "\u001b[2m2025-09-15 22:19.23\u001b[0m [\u001b[32m\u001b[1minfo     \u001b[0m] \u001b[1mModel parameters are saved to d3rlpy_logs/DQN_20250915221802/model_10000.d3\u001b[0m\n"
     ]
    },
    {
     "data": {
      "text/plain": [
       "[(1,\n",
       "  {'time_sample_batch': 0.00023308279514312744,\n",
       "   'time_algorithm_update': 0.005771638035774231,\n",
       "   'loss': 0.005504346831805742,\n",
       "   'time_step': 0.006068303322792053,\n",
       "   'td_error': 0.9951041568644884,\n",
       "   'environment': 11.6})]"
      ]
     },
     "execution_count": 11,
     "metadata": {},
     "output_type": "execute_result"
    }
   ],
   "source": [
    "dqn.fit(\n",
    "    dataset,\n",
    "    n_steps=10000,\n",
    "    evaluators={\n",
    "        'td_error': td_error_evaluator,\n",
    "        'environment': env_evaluator,\n",
    "    },\n",
    ")"
   ]
  },
  {
   "cell_type": "markdown",
   "id": "fb82234c",
   "metadata": {},
   "source": [
    "Once the training is done, your algorithm is ready to make decisions."
   ]
  },
  {
   "cell_type": "code",
   "execution_count": 13,
   "id": "1dc75ed1",
   "metadata": {},
   "outputs": [],
   "source": [
    "import numpy as np # added\n",
    "observation, _ = env.reset()\n",
    "\n",
    "# return actions based on the greedy-policy\n",
    "action = dqn.predict(np.expand_dims(observation, axis=0))\n",
    "\n",
    "# estimate action-values\n",
    "value = dqn.predict_value(np.expand_dims(observation, axis=0), action)"
   ]
  },
  {
   "cell_type": "markdown",
   "id": "e836973f",
   "metadata": {},
   "source": [
    "# Save and load models\n",
    "\n",
    "d3rlpy provides several ways to save trained models."
   ]
  },
  {
   "cell_type": "code",
   "execution_count": null,
   "id": "87cb0d2a",
   "metadata": {},
   "outputs": [],
   "source": [
    "import d3rlpy\n",
    "\n",
    "# save full parameters and configurations in a single file.\n",
    "dqn.save('dqn.d3')\n",
    "# load full parameters and build algorithm\n",
    "dqn2 = d3rlpy.load_learnable(\"dqn.d3\")\n",
    "\n",
    "# save full parameters only\n",
    "dqn.save_model('dqn.pt')\n",
    "# load full parameters with manual setup\n",
    "dqn3 = DQN()\n",
    "dqn3.build_with_dataset(dataset)\n",
    "dqn3.load_model('dqn.pt')\n",
    "\n",
    "# save the greedy-policy as TorchScript\n",
    "dqn.save_policy('policy.pt')\n",
    "# save the greedy-policy as ONNX\n",
    "dqn.save_policy('policy.onnx')"
   ]
  }
 ],
 "metadata": {
  "kernelspec": {
   "display_name": "python313",
   "language": "python",
   "name": "python3"
  },
  "language_info": {
   "codemirror_mode": {
    "name": "ipython",
    "version": 3
   },
   "file_extension": ".py",
   "mimetype": "text/x-python",
   "name": "python",
   "nbconvert_exporter": "python",
   "pygments_lexer": "ipython3",
   "version": "3.13.5"
  }
 },
 "nbformat": 4,
 "nbformat_minor": 5
}
