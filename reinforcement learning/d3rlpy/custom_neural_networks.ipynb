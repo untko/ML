{
 "cells": [
  {
   "cell_type": "markdown",
   "id": "207dfc4a",
   "metadata": {},
   "source": [
    "ref: https://d3rlpy.readthedocs.io/en/stable/tutorials/customize_neural_network.html"
   ]
  },
  {
   "cell_type": "markdown",
   "id": "7edb18ec",
   "metadata": {},
   "source": [
    "## prepare pytorch model"
   ]
  },
  {
   "cell_type": "code",
   "execution_count": 2,
   "id": "3d51b41a",
   "metadata": {},
   "outputs": [],
   "source": [
    "import torch\n",
    "import torch.nn as nn\n",
    "import d3rlpy\n",
    "import gymnasium as gym\n",
    "\n",
    "class CustomEncoder(nn.Module):\n",
    "    def __init__(self, observation_shape, feature_size):\n",
    "        super().__init__()\n",
    "        self.feature_size = feature_size\n",
    "        self.fc1 = nn.Linear(observation_shape[0], feature_size)\n",
    "        self.fc2 = nn.Linear(feature_size, feature_size)\n",
    "\n",
    "    def forward(self, x):\n",
    "        h = torch.relu(self.fc1(x))\n",
    "        h = torch.relu(self.fc2(h))\n",
    "        return h"
   ]
  },
  {
   "cell_type": "markdown",
   "id": "e5a5d586",
   "metadata": {},
   "source": [
    "## Setup EncoderFactory\n",
    "\n",
    "*Once you setup your PyTorch model, you need to setup EncoderFactory as a dataclass class. In your EncoderFactory class, you need to define create and get_type. get_type method is used to serialize your customized neural network configuration.*"
   ]
  },
  {
   "cell_type": "code",
   "execution_count": 3,
   "id": "ef65b13f",
   "metadata": {},
   "outputs": [],
   "source": [
    "import dataclasses\n",
    "\n",
    "@dataclasses.dataclass()\n",
    "class CustomEncoderFactory(d3rlpy.models.EncoderFactory):\n",
    "    feature_size: int\n",
    "\n",
    "    def create(self, observation_shape):\n",
    "        return CustomEncoder(observation_shape, self.feature_size)\n",
    "\n",
    "    @staticmethod\n",
    "    def get_type() -> str:\n",
    "        return \"custom\""
   ]
  },
  {
   "cell_type": "code",
   "execution_count": 4,
   "id": "98d0eac9",
   "metadata": {},
   "outputs": [],
   "source": [
    "# Now we can use our model with d3rlpy\n",
    "\n",
    "# integrate your model into d3rlpy algorithm\n",
    "dqn = d3rlpy.algos.DQNConfig(encoder_factory=CustomEncoderFactory(64)).create()"
   ]
  },
  {
   "cell_type": "markdown",
   "id": "5523bd9d",
   "metadata": {},
   "source": [
    "## Support Q-function for Actor-Critic\n",
    "\n",
    "*In the above example, your original model is designed for the network that takes an observation as an input. However, if you customize a Q-function of actor-critic algorithm (e.g. SAC), you need to prepare an action-conditioned model.*"
   ]
  },
  {
   "cell_type": "code",
   "execution_count": 7,
   "id": "0ec21c40",
   "metadata": {},
   "outputs": [],
   "source": [
    "class CustomEncoderWithAction(nn.Module):\n",
    "    def __init__(self, observation_shape, action_size, feature_size):\n",
    "        super().__init__()\n",
    "        self.feature_size = feature_size\n",
    "        self.fc1 = nn.Linear(observation_shape[0] + action_size, feature_size)\n",
    "        self.fc2 = nn.Linear(feature_size, feature_size)\n",
    "\n",
    "    def forward(self, x, action):\n",
    "        h = torch.cat([x, action], dim=1)\n",
    "        h = torch.relu(self.fc1(h))\n",
    "        h = torch.relu(self.fc2(h))\n",
    "        return h"
   ]
  },
  {
   "cell_type": "markdown",
   "id": "af7c1702",
   "metadata": {},
   "source": [
    "finally update our CustonEncoderFactory as follows:"
   ]
  },
  {
   "cell_type": "code",
   "execution_count": 8,
   "id": "b4a8fcec",
   "metadata": {},
   "outputs": [],
   "source": [
    "@dataclasses.dataclass()\n",
    "class CustomEncoderFactory(d3rlpy.models.EncoderFactory):\n",
    "    feature_size: int\n",
    "\n",
    "    def create(self, observation_shape):\n",
    "        return CustomEncoder(observation_shape, self.feature_size)\n",
    "\n",
    "    def create_with_action(self, observation_shape, action_size, discrete_action):\n",
    "        return CustomEncoderWithAction(observation_shape, action_size, self.feature_size)\n",
    "\n",
    "    @staticmethod\n",
    "    def get_type() -> str:\n",
    "        return \"custom\""
   ]
  },
  {
   "cell_type": "markdown",
   "id": "c57ff47e",
   "metadata": {},
   "source": [
    "customize AC algo"
   ]
  },
  {
   "cell_type": "code",
   "execution_count": 9,
   "id": "79d5d76a",
   "metadata": {},
   "outputs": [],
   "source": [
    "encoder_factory = CustomEncoderFactory(64)\n",
    "\n",
    "sac = d3rlpy.algos.SACConfig(\n",
    "    actor_encoder_factory=encoder_factory,\n",
    "    critic_encoder_factory=encoder_factory,\n",
    ").create()"
   ]
  },
  {
   "cell_type": "markdown",
   "id": "4df929ba",
   "metadata": {},
   "source": [
    "## Make your models loadable\n",
    "\n",
    "*If you want load_learnable method to load the algorithm configuration including your encoder configuration, you need to register your encoder factory.*"
   ]
  },
  {
   "cell_type": "code",
   "execution_count": null,
   "id": "c04e0dbc",
   "metadata": {},
   "outputs": [],
   "source": [
    "from d3rlpy.models.encoders import register_encoder_factory\n",
    "\n",
    "# register your own encoder factory\n",
    "register_encoder_factory(CustomEncoderFactory)\n",
    "\n",
    "# load algorithm from d3\n",
    "dqn = d3rlpy.load_learnable(\"model.d3\")"
   ]
  }
 ],
 "metadata": {
  "kernelspec": {
   "display_name": "python313",
   "language": "python",
   "name": "python3"
  },
  "language_info": {
   "codemirror_mode": {
    "name": "ipython",
    "version": 3
   },
   "file_extension": ".py",
   "mimetype": "text/x-python",
   "name": "python",
   "nbconvert_exporter": "python",
   "pygments_lexer": "ipython3",
   "version": "3.13.5"
  }
 },
 "nbformat": 4,
 "nbformat_minor": 5
}
