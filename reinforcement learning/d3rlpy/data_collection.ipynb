{
 "cells": [
  {
   "cell_type": "code",
   "execution_count": 2,
   "id": "8c418cca",
   "metadata": {},
   "outputs": [],
   "source": [
    "import gymnasium as gym\n",
    "\n",
    "env = gym.make(\"CartPole-v1\")"
   ]
  },
  {
   "cell_type": "markdown",
   "id": "e3aa9211",
   "metadata": {},
   "source": [
    "Data Collection with Random Policy"
   ]
  },
  {
   "cell_type": "code",
   "execution_count": 3,
   "id": "688e98ea",
   "metadata": {},
   "outputs": [
    {
     "name": "stderr",
     "output_type": "stream",
     "text": [
      "/opt/anaconda3/envs/python313/lib/python3.13/site-packages/tqdm/auto.py:21: TqdmWarning: IProgress not found. Please update jupyter and ipywidgets. See https://ipywidgets.readthedocs.io/en/stable/user_install.html\n",
      "  from .autonotebook import tqdm as notebook_tqdm\n"
     ]
    },
    {
     "name": "stdout",
     "output_type": "stream",
     "text": [
      "\u001b[2m2025-09-15 22:21.00\u001b[0m [\u001b[32m\u001b[1minfo     \u001b[0m] \u001b[1mSignatures have been automatically determined.\u001b[0m \u001b[36maction_signature\u001b[0m=\u001b[35mSignature(dtype=[dtype('int64')], shape=[()])\u001b[0m \u001b[36mobservation_signature\u001b[0m=\u001b[35mSignature(dtype=[dtype('float32')], shape=[(4,)])\u001b[0m \u001b[36mreward_signature\u001b[0m=\u001b[35mSignature(dtype=[dtype('float32')], shape=[[1]])\u001b[0m\n",
      "\u001b[2m2025-09-15 22:21.00\u001b[0m [\u001b[32m\u001b[1minfo     \u001b[0m] \u001b[1mAction-space has been automatically determined.\u001b[0m \u001b[36maction_space\u001b[0m=\u001b[35m<ActionSpace.DISCRETE: 2>\u001b[0m\n",
      "\u001b[2m2025-09-15 22:21.00\u001b[0m [\u001b[32m\u001b[1minfo     \u001b[0m] \u001b[1mAction size has been automatically determined.\u001b[0m \u001b[36maction_size\u001b[0m=\u001b[35m2\u001b[0m\n",
      "\u001b[2m2025-09-15 22:21.00\u001b[0m [\u001b[32m\u001b[1mdebug    \u001b[0m] \u001b[1mBuilding model...             \u001b[0m\n",
      "\u001b[2m2025-09-15 22:21.00\u001b[0m [\u001b[32m\u001b[1mdebug    \u001b[0m] \u001b[1mModel has been built.         \u001b[0m\n"
     ]
    },
    {
     "name": "stderr",
     "output_type": "stream",
     "text": [
      "100%|██████████| 100000/100000 [00:01<00:00, 82870.91it/s]\n"
     ]
    }
   ],
   "source": [
    "import d3rlpy\n",
    "\n",
    "# setup algorithm\n",
    "random_policy = d3rlpy.algos.DiscreteRandomPolicyConfig().create()\n",
    "\n",
    "# prepare experience replay buffer\n",
    "buffer = d3rlpy.dataset.create_fifo_replay_buffer(limit=100000, env=env)\n",
    "\n",
    "# start data collection\n",
    "random_policy.collect(env, buffer, n_steps=100000)\n",
    "\n",
    "# save ReplayBuffer\n",
    "with open(\"random_policy_dataset.h5\", \"w+b\") as f:\n",
    "    buffer.dump(f)"
   ]
  },
  {
   "cell_type": "markdown",
   "id": "98fd3bec",
   "metadata": {},
   "source": [
    "Data Collection with Trained Policy"
   ]
  },
  {
   "cell_type": "code",
   "execution_count": null,
   "id": "14dff957",
   "metadata": {},
   "outputs": [],
   "source": [
    "'''We don't have trained policy yet, so we'll skip for now'''\n",
    "\n",
    "# prepare pretrained algorithm\n",
    "dqn = d3rlpy.load_learnable(\"dqn_model.d3\")\n",
    "\n",
    "# prepare experience replay buffer\n",
    "buffer = d3rlpy.dataset.create_fifo_replay_buffer(limit=100000, env=env)\n",
    "\n",
    "# start data collection\n",
    "dqn.collect(env, buffer, n_steps=100000)\n",
    "\n",
    "# save ReplayBuffer\n",
    "with open(\"trained_policy_dataset.h5\", \"w+b\") as f:\n",
    "  buffer.dump(f)"
   ]
  },
  {
   "cell_type": "markdown",
   "id": "0b1626c2",
   "metadata": {},
   "source": [
    "Data Collection while Training Policy"
   ]
  },
  {
   "cell_type": "code",
   "execution_count": null,
   "id": "7028a47a",
   "metadata": {},
   "outputs": [],
   "source": [
    "# setup algorithm\n",
    "dqn = d3rlpy.algos.DQNConfig().create()\n",
    "\n",
    "# prepare experience replay buffer\n",
    "buffer = d3rlpy.dataset.create_fifo_replay_buffer(limit=100000, env=env)\n",
    "\n",
    "# prepare exploration strategy if necessary\n",
    "explorer = d3rlpy.algos.ConstantEpsilonGreedy(0.3)\n",
    "\n",
    "# start data collection\n",
    "dqn.fit_online(env, buffer, explorer, n_steps=100000)\n",
    "\n",
    "# save ReplayBuffer\n",
    "with open(\"replay_dataset.h5\", \"w+b\") as f:\n",
    "  buffer.dump(f)"
   ]
  }
 ],
 "metadata": {
  "kernelspec": {
   "display_name": "python313",
   "language": "python",
   "name": "python3"
  },
  "language_info": {
   "codemirror_mode": {
    "name": "ipython",
    "version": 3
   },
   "file_extension": ".py",
   "mimetype": "text/x-python",
   "name": "python",
   "nbconvert_exporter": "python",
   "pygments_lexer": "ipython3",
   "version": "3.13.5"
  }
 },
 "nbformat": 4,
 "nbformat_minor": 5
}
